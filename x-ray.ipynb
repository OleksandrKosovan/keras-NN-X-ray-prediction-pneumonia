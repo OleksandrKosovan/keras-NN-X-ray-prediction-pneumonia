{
 "cells": [
  {
   "cell_type": "markdown",
   "metadata": {},
   "source": [
    "### Import"
   ]
  },
  {
   "cell_type": "code",
   "execution_count": 5,
   "metadata": {},
   "outputs": [],
   "source": [
    "from keras.preprocessing.image import ImageDataGenerator\n",
    "from keras.models import Sequential\n",
    "from keras.layers import Conv2D, MaxPooling2D\n",
    "from keras.layers import Activation, Dropout, Flatten, Dense\n",
    "from keras import backend as K"
   ]
  },
  {
   "cell_type": "markdown",
   "metadata": {},
   "source": [
    "### Create variable"
   ]
  },
  {
   "cell_type": "code",
   "execution_count": 2,
   "metadata": {},
   "outputs": [],
   "source": [
    "# dimensions of our images.\n",
    "img_width, img_height = 150, 150"
   ]
  },
  {
   "cell_type": "code",
   "execution_count": 3,
   "metadata": {},
   "outputs": [],
   "source": [
    "train_data_dir = 'chest_xray/train'\n",
    "validation_data_dir = 'chest_xray/val'\n",
    "test_data_dir = 'chest_xray/test'\n",
    "\n",
    "nb_train_samples = 5217\n",
    "nb_validation_samples = 17\n",
    "epochs = 20\n",
    "batch_size = 16"
   ]
  },
  {
   "cell_type": "code",
   "execution_count": 6,
   "metadata": {},
   "outputs": [],
   "source": [
    "if K.image_data_format() == 'channels_first':\n",
    "    input_shape = (3, img_width, img_height)\n",
    "else:\n",
    "    input_shape = (img_width, img_height, 3)"
   ]
  },
  {
   "cell_type": "markdown",
   "metadata": {},
   "source": [
    "### Create Sequential model"
   ]
  },
  {
   "cell_type": "code",
   "execution_count": 7,
   "metadata": {},
   "outputs": [],
   "source": [
    "model = Sequential()\n",
    "model.add(Conv2D(32, (3, 3), input_shape=input_shape))\n",
    "model.add(Activation('relu'))\n",
    "model.add(MaxPooling2D(pool_size=(2, 2)))\n",
    "\n",
    "model.add(Conv2D(32, (3, 3)))\n",
    "model.add(Activation('relu'))\n",
    "model.add(MaxPooling2D(pool_size=(2, 2)))\n",
    "\n",
    "model.add(Conv2D(64, (3, 3)))\n",
    "model.add(Activation('relu'))\n",
    "model.add(MaxPooling2D(pool_size=(2, 2)))\n",
    "\n",
    "model.add(Flatten())\n",
    "model.add(Dense(64))\n",
    "model.add(Activation('relu'))\n",
    "model.add(Dropout(0.5))\n",
    "model.add(Dense(1))\n",
    "model.add(Activation('sigmoid'))"
   ]
  },
  {
   "cell_type": "markdown",
   "metadata": {},
   "source": [
    "### Check information about model"
   ]
  },
  {
   "cell_type": "code",
   "execution_count": 9,
   "metadata": {},
   "outputs": [
    {
     "data": {
      "text/plain": [
       "[<tf.Tensor 'conv2d_1_input:0' shape=(?, 150, 150, 3) dtype=float32>]"
      ]
     },
     "execution_count": 9,
     "metadata": {},
     "output_type": "execute_result"
    }
   ],
   "source": [
    "model.inputs"
   ]
  },
  {
   "cell_type": "code",
   "execution_count": 10,
   "metadata": {},
   "outputs": [
    {
     "data": {
      "text/plain": [
       "<tf.Tensor 'activation_5/Sigmoid:0' shape=(?, 1) dtype=float32>"
      ]
     },
     "execution_count": 10,
     "metadata": {},
     "output_type": "execute_result"
    }
   ],
   "source": [
    "model.output"
   ]
  },
  {
   "cell_type": "markdown",
   "metadata": {},
   "source": [
    "### Compile"
   ]
  },
  {
   "cell_type": "code",
   "execution_count": 11,
   "metadata": {},
   "outputs": [],
   "source": [
    "model.compile(loss='binary_crossentropy',\n",
    "              optimizer='rmsprop',\n",
    "              metrics=['accuracy'])"
   ]
  },
  {
   "cell_type": "markdown",
   "metadata": {},
   "source": [
    "### Upload img"
   ]
  },
  {
   "cell_type": "code",
   "execution_count": 12,
   "metadata": {},
   "outputs": [],
   "source": [
    "# this is the augmentation configuration we will use for training\n",
    "train_datagen = ImageDataGenerator(\n",
    "    rescale=1. / 255,\n",
    "    shear_range=0.2,\n",
    "    zoom_range=0.2,\n",
    "    horizontal_flip=True)"
   ]
  },
  {
   "cell_type": "code",
   "execution_count": 13,
   "metadata": {},
   "outputs": [],
   "source": [
    "# this is the augmentation configuration we will use for testing:\n",
    "# only rescaling\n",
    "test_datagen = ImageDataGenerator(rescale=1. / 255)"
   ]
  },
  {
   "cell_type": "code",
   "execution_count": 14,
   "metadata": {},
   "outputs": [
    {
     "name": "stdout",
     "output_type": "stream",
     "text": [
      "Found 5216 images belonging to 2 classes.\n"
     ]
    }
   ],
   "source": [
    "train_generator = train_datagen.flow_from_directory(\n",
    "    train_data_dir,\n",
    "    target_size=(img_width, img_height),\n",
    "    batch_size=batch_size,\n",
    "    class_mode='binary')"
   ]
  },
  {
   "cell_type": "code",
   "execution_count": 15,
   "metadata": {},
   "outputs": [
    {
     "name": "stdout",
     "output_type": "stream",
     "text": [
      "Found 16 images belonging to 2 classes.\n"
     ]
    }
   ],
   "source": [
    "validation_generator = test_datagen.flow_from_directory(\n",
    "    validation_data_dir,\n",
    "    target_size=(img_width, img_height),\n",
    "    batch_size=batch_size,\n",
    "    class_mode='binary')"
   ]
  },
  {
   "cell_type": "code",
   "execution_count": 19,
   "metadata": {},
   "outputs": [
    {
     "name": "stdout",
     "output_type": "stream",
     "text": [
      "Found 624 images belonging to 2 classes.\n"
     ]
    }
   ],
   "source": [
    "test_generator = test_datagen.flow_from_directory(\n",
    "    test_data_dir,\n",
    "    target_size=(img_width, img_height),\n",
    "    batch_size=batch_size,\n",
    "    class_mode='binary')"
   ]
  },
  {
   "cell_type": "markdown",
   "metadata": {},
   "source": [
    "### Fit model"
   ]
  },
  {
   "cell_type": "code",
   "execution_count": 16,
   "metadata": {},
   "outputs": [
    {
     "name": "stdout",
     "output_type": "stream",
     "text": [
      "Epoch 1/20\n",
      "326/326 [==============================] - 302s 925ms/step - loss: 0.5079 - acc: 0.7889 - val_loss: 0.5957 - val_acc: 0.7500\n",
      "Epoch 2/20\n",
      "326/326 [==============================] - 274s 841ms/step - loss: 0.3560 - acc: 0.8633 - val_loss: 0.4023 - val_acc: 0.8125\n",
      "Epoch 3/20\n",
      "326/326 [==============================] - 259s 795ms/step - loss: 0.3224 - acc: 0.8779 - val_loss: 0.8220 - val_acc: 0.6250\n",
      "Epoch 4/20\n",
      "326/326 [==============================] - 259s 793ms/step - loss: 0.3256 - acc: 0.8861 - val_loss: 1.9381 - val_acc: 0.6250\n",
      "Epoch 5/20\n",
      "326/326 [==============================] - 259s 795ms/step - loss: 0.2987 - acc: 0.8982 - val_loss: 1.0933 - val_acc: 0.6875\n",
      "Epoch 6/20\n",
      "326/326 [==============================] - 256s 786ms/step - loss: 0.2668 - acc: 0.9005 - val_loss: 1.4881 - val_acc: 0.6250\n",
      "Epoch 7/20\n",
      "326/326 [==============================] - 264s 809ms/step - loss: 0.2823 - acc: 0.9036 - val_loss: 1.1046 - val_acc: 0.6250\n",
      "Epoch 8/20\n",
      "326/326 [==============================] - 256s 785ms/step - loss: 0.2957 - acc: 0.9034 - val_loss: 1.6484 - val_acc: 0.6250\n",
      "Epoch 9/20\n",
      "326/326 [==============================] - 255s 783ms/step - loss: 0.2409 - acc: 0.9149 - val_loss: 4.0206 - val_acc: 0.6250\n",
      "Epoch 10/20\n",
      "326/326 [==============================] - 254s 779ms/step - loss: 0.2857 - acc: 0.9132 - val_loss: 0.7121 - val_acc: 0.8125\n",
      "Epoch 11/20\n",
      "326/326 [==============================] - 255s 783ms/step - loss: 0.3091 - acc: 0.9051 - val_loss: 1.0185 - val_acc: 0.7500\n",
      "Epoch 12/20\n",
      "326/326 [==============================] - 256s 786ms/step - loss: 0.2789 - acc: 0.9099 - val_loss: 0.5203 - val_acc: 0.7500\n",
      "Epoch 13/20\n",
      "326/326 [==============================] - 255s 781ms/step - loss: 0.3544 - acc: 0.9011 - val_loss: 1.1318 - val_acc: 0.6875\n",
      "Epoch 14/20\n",
      "326/326 [==============================] - 255s 783ms/step - loss: 0.3209 - acc: 0.9005 - val_loss: 1.2294 - val_acc: 0.7500\n",
      "Epoch 15/20\n",
      "326/326 [==============================] - 255s 784ms/step - loss: 0.4045 - acc: 0.9011 - val_loss: 2.0156 - val_acc: 0.6250\n",
      "Epoch 16/20\n",
      "326/326 [==============================] - 255s 781ms/step - loss: 0.3017 - acc: 0.9109 - val_loss: 1.5099 - val_acc: 0.7500\n",
      "Epoch 17/20\n",
      "326/326 [==============================] - 253s 775ms/step - loss: 0.3055 - acc: 0.9099 - val_loss: 0.5246 - val_acc: 0.7500\n",
      "Epoch 18/20\n",
      "326/326 [==============================] - 255s 782ms/step - loss: 0.3110 - acc: 0.9032 - val_loss: 1.2015 - val_acc: 0.7500\n",
      "Epoch 19/20\n",
      "326/326 [==============================] - 269s 825ms/step - loss: 0.2885 - acc: 0.9151 - val_loss: 0.7807 - val_acc: 0.8125\n",
      "Epoch 20/20\n",
      "326/326 [==============================] - 258s 790ms/step - loss: 0.2879 - acc: 0.9105 - val_loss: 1.3138 - val_acc: 0.7500\n"
     ]
    },
    {
     "data": {
      "text/plain": [
       "<keras.callbacks.History at 0x2d824185c18>"
      ]
     },
     "execution_count": 16,
     "metadata": {},
     "output_type": "execute_result"
    }
   ],
   "source": [
    "model.fit_generator(\n",
    "    train_generator,\n",
    "    steps_per_epoch=nb_train_samples // batch_size,\n",
    "    epochs=epochs,\n",
    "    validation_data=validation_generator,\n",
    "    validation_steps=nb_validation_samples // batch_size)"
   ]
  },
  {
   "cell_type": "markdown",
   "metadata": {},
   "source": [
    "### Save model`s weights"
   ]
  },
  {
   "cell_type": "code",
   "execution_count": 17,
   "metadata": {},
   "outputs": [],
   "source": [
    "model.save_weights('first_try.h5')"
   ]
  },
  {
   "cell_type": "markdown",
   "metadata": {},
   "source": [
    "### Evalute model"
   ]
  },
  {
   "cell_type": "code",
   "execution_count": 21,
   "metadata": {},
   "outputs": [
    {
     "name": "stdout",
     "output_type": "stream",
     "text": [
      "\n",
      "acc: 84.29%\n"
     ]
    }
   ],
   "source": [
    "# evaluate the model\n",
    "scores = model.evaluate_generator(test_generator)\n",
    "print(\"\\n%s: %.2f%%\" % (model.metrics_names[1], scores[1]*100))"
   ]
  }
 ],
 "metadata": {
  "kernelspec": {
   "display_name": "Python 3",
   "language": "python",
   "name": "python3"
  },
  "language_info": {
   "codemirror_mode": {
    "name": "ipython",
    "version": 3
   },
   "file_extension": ".py",
   "mimetype": "text/x-python",
   "name": "python",
   "nbconvert_exporter": "python",
   "pygments_lexer": "ipython3",
   "version": "3.6.5"
  }
 },
 "nbformat": 4,
 "nbformat_minor": 2
}
